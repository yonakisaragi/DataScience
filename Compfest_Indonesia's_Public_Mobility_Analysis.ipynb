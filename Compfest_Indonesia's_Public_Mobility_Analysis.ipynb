{
  "nbformat": 4,
  "nbformat_minor": 0,
  "metadata": {
    "colab": {
      "name": "Compfest - Indonesia's Public Mobility Analysis.ipynb",
      "provenance": [],
      "authorship_tag": "ABX9TyO5JxCzAnFgs6ocxliqXVuA",
      "include_colab_link": true
    },
    "kernelspec": {
      "name": "python3",
      "display_name": "Python 3"
    },
    "language_info": {
      "name": "python"
    }
  },
  "cells": [
    {
      "cell_type": "markdown",
      "metadata": {
        "id": "view-in-github",
        "colab_type": "text"
      },
      "source": [
        "<a href=\"https://colab.research.google.com/github/yonakisaragi/DataScience/blob/main/Compfest_Indonesia's_Public_Mobility_Analysis.ipynb\" target=\"_parent\"><img src=\"https://colab.research.google.com/assets/colab-badge.svg\" alt=\"Open In Colab\"/></a>"
      ]
    },
    {
      "cell_type": "code",
      "execution_count": 13,
      "metadata": {
        "id": "DMCzO2XClGCD"
      },
      "outputs": [],
      "source": [
        "import os\n",
        "import numpy as np\n",
        "import pandas as pd\n",
        "import matplotlib\n",
        "import matplotlib.pyplot as plt\n",
        "import seaborn as sns\n",
        "\n",
        "import warnings\n",
        "warnings.filterwarnings(\"ignore\")"
      ]
    },
    {
      "cell_type": "markdown",
      "source": [
        "# Data Identification"
      ],
      "metadata": {
        "id": "WtVSsd-fsU1P"
      }
    },
    {
      "cell_type": "code",
      "source": [
        "df = pd.read_csv('mobility.csv')\n",
        "df"
      ],
      "metadata": {
        "colab": {
          "base_uri": "https://localhost:8080/",
          "height": 661
        },
        "id": "-1C-bHsBlOp_",
        "outputId": "c237512b-98e5-4815-b118-967c040cd6df"
      },
      "execution_count": 3,
      "outputs": [
        {
          "output_type": "execute_result",
          "data": {
            "text/plain": [
              "     country_region_code country_region  sub_region_1  sub_region_2  \\\n",
              "0                     ID      Indonesia           NaN           NaN   \n",
              "1                     ID      Indonesia           NaN           NaN   \n",
              "2                     ID      Indonesia           NaN           NaN   \n",
              "3                     ID      Indonesia           NaN           NaN   \n",
              "4                     ID      Indonesia           NaN           NaN   \n",
              "...                  ...            ...           ...           ...   \n",
              "6365                  ID      Indonesia  West Sumatra           NaN   \n",
              "6366                  ID      Indonesia  West Sumatra           NaN   \n",
              "6367                  ID      Indonesia  West Sumatra           NaN   \n",
              "6368                  ID      Indonesia  West Sumatra           NaN   \n",
              "6369                  ID      Indonesia  West Sumatra           NaN   \n",
              "\n",
              "      metro_area iso_3166_2_code  census_fips_code  \\\n",
              "0            NaN             NaN               NaN   \n",
              "1            NaN             NaN               NaN   \n",
              "2            NaN             NaN               NaN   \n",
              "3            NaN             NaN               NaN   \n",
              "4            NaN             NaN               NaN   \n",
              "...          ...             ...               ...   \n",
              "6365         NaN           ID-SB               NaN   \n",
              "6366         NaN           ID-SB               NaN   \n",
              "6367         NaN           ID-SB               NaN   \n",
              "6368         NaN           ID-SB               NaN   \n",
              "6369         NaN           ID-SB               NaN   \n",
              "\n",
              "                         place_id        date  \\\n",
              "0     ChIJtwRkSdcHTCwRhfStG-dNe-M  2022-01-01   \n",
              "1     ChIJtwRkSdcHTCwRhfStG-dNe-M  2022-01-02   \n",
              "2     ChIJtwRkSdcHTCwRhfStG-dNe-M  2022-01-03   \n",
              "3     ChIJtwRkSdcHTCwRhfStG-dNe-M  2022-01-04   \n",
              "4     ChIJtwRkSdcHTCwRhfStG-dNe-M  2022-01-05   \n",
              "...                           ...         ...   \n",
              "6365  ChIJRUJ08Ey51C8RVTvVdblRsXA  2022-06-27   \n",
              "6366  ChIJRUJ08Ey51C8RVTvVdblRsXA  2022-06-28   \n",
              "6367  ChIJRUJ08Ey51C8RVTvVdblRsXA  2022-06-29   \n",
              "6368  ChIJRUJ08Ey51C8RVTvVdblRsXA  2022-06-30   \n",
              "6369  ChIJRUJ08Ey51C8RVTvVdblRsXA  2022-07-01   \n",
              "\n",
              "      retail_and_recreation_percent_change_from_baseline  \\\n",
              "0                                                     3    \n",
              "1                                                    11    \n",
              "2                                                    14    \n",
              "3                                                    11    \n",
              "4                                                    12    \n",
              "...                                                 ...    \n",
              "6365                                                 43    \n",
              "6366                                                 35    \n",
              "6367                                                 35    \n",
              "6368                                                 44    \n",
              "6369                                                 44    \n",
              "\n",
              "      grocery_and_pharmacy_percent_change_from_baseline  \\\n",
              "0                                                    24   \n",
              "1                                                    35   \n",
              "2                                                    36   \n",
              "3                                                    33   \n",
              "4                                                    34   \n",
              "...                                                 ...   \n",
              "6365                                                 74   \n",
              "6366                                                 68   \n",
              "6367                                                 66   \n",
              "6368                                                 74   \n",
              "6369                                                 82   \n",
              "\n",
              "      parks_percent_change_from_baseline  \\\n",
              "0                                     46   \n",
              "1                                     28   \n",
              "2                                     20   \n",
              "3                                     15   \n",
              "4                                     17   \n",
              "...                                  ...   \n",
              "6365                                  83   \n",
              "6366                                  70   \n",
              "6367                                  68   \n",
              "6368                                  74   \n",
              "6369                                  80   \n",
              "\n",
              "      transit_stations_percent_change_from_baseline  \\\n",
              "0                                             -15.0   \n",
              "1                                              -4.0   \n",
              "2                                              -9.0   \n",
              "3                                              -9.0   \n",
              "4                                             -10.0   \n",
              "...                                             ...   \n",
              "6365                                           23.0   \n",
              "6366                                           22.0   \n",
              "6367                                           10.0   \n",
              "6368                                           25.0   \n",
              "6369                                           21.0   \n",
              "\n",
              "      workplaces_percent_change_from_baseline  \\\n",
              "0                                         -49   \n",
              "1                                          -4   \n",
              "2                                         -10   \n",
              "3                                          -8   \n",
              "4                                          -7   \n",
              "...                                       ...   \n",
              "6365                                        7   \n",
              "6366                                        4   \n",
              "6367                                        6   \n",
              "6368                                        5   \n",
              "6369                                       10   \n",
              "\n",
              "      residential_percent_change_from_baseline  \n",
              "0                                            6  \n",
              "1                                            3  \n",
              "2                                            4  \n",
              "3                                            4  \n",
              "4                                            4  \n",
              "...                                        ...  \n",
              "6365                                        17  \n",
              "6366                                        18  \n",
              "6367                                        20  \n",
              "6368                                        18  \n",
              "6369                                        18  \n",
              "\n",
              "[6370 rows x 15 columns]"
            ],
            "text/html": [
              "\n",
              "  <div id=\"df-dff99211-58e0-43db-bb0b-35106232d686\">\n",
              "    <div class=\"colab-df-container\">\n",
              "      <div>\n",
              "<style scoped>\n",
              "    .dataframe tbody tr th:only-of-type {\n",
              "        vertical-align: middle;\n",
              "    }\n",
              "\n",
              "    .dataframe tbody tr th {\n",
              "        vertical-align: top;\n",
              "    }\n",
              "\n",
              "    .dataframe thead th {\n",
              "        text-align: right;\n",
              "    }\n",
              "</style>\n",
              "<table border=\"1\" class=\"dataframe\">\n",
              "  <thead>\n",
              "    <tr style=\"text-align: right;\">\n",
              "      <th></th>\n",
              "      <th>country_region_code</th>\n",
              "      <th>country_region</th>\n",
              "      <th>sub_region_1</th>\n",
              "      <th>sub_region_2</th>\n",
              "      <th>metro_area</th>\n",
              "      <th>iso_3166_2_code</th>\n",
              "      <th>census_fips_code</th>\n",
              "      <th>place_id</th>\n",
              "      <th>date</th>\n",
              "      <th>retail_and_recreation_percent_change_from_baseline</th>\n",
              "      <th>grocery_and_pharmacy_percent_change_from_baseline</th>\n",
              "      <th>parks_percent_change_from_baseline</th>\n",
              "      <th>transit_stations_percent_change_from_baseline</th>\n",
              "      <th>workplaces_percent_change_from_baseline</th>\n",
              "      <th>residential_percent_change_from_baseline</th>\n",
              "    </tr>\n",
              "  </thead>\n",
              "  <tbody>\n",
              "    <tr>\n",
              "      <th>0</th>\n",
              "      <td>ID</td>\n",
              "      <td>Indonesia</td>\n",
              "      <td>NaN</td>\n",
              "      <td>NaN</td>\n",
              "      <td>NaN</td>\n",
              "      <td>NaN</td>\n",
              "      <td>NaN</td>\n",
              "      <td>ChIJtwRkSdcHTCwRhfStG-dNe-M</td>\n",
              "      <td>2022-01-01</td>\n",
              "      <td>3</td>\n",
              "      <td>24</td>\n",
              "      <td>46</td>\n",
              "      <td>-15.0</td>\n",
              "      <td>-49</td>\n",
              "      <td>6</td>\n",
              "    </tr>\n",
              "    <tr>\n",
              "      <th>1</th>\n",
              "      <td>ID</td>\n",
              "      <td>Indonesia</td>\n",
              "      <td>NaN</td>\n",
              "      <td>NaN</td>\n",
              "      <td>NaN</td>\n",
              "      <td>NaN</td>\n",
              "      <td>NaN</td>\n",
              "      <td>ChIJtwRkSdcHTCwRhfStG-dNe-M</td>\n",
              "      <td>2022-01-02</td>\n",
              "      <td>11</td>\n",
              "      <td>35</td>\n",
              "      <td>28</td>\n",
              "      <td>-4.0</td>\n",
              "      <td>-4</td>\n",
              "      <td>3</td>\n",
              "    </tr>\n",
              "    <tr>\n",
              "      <th>2</th>\n",
              "      <td>ID</td>\n",
              "      <td>Indonesia</td>\n",
              "      <td>NaN</td>\n",
              "      <td>NaN</td>\n",
              "      <td>NaN</td>\n",
              "      <td>NaN</td>\n",
              "      <td>NaN</td>\n",
              "      <td>ChIJtwRkSdcHTCwRhfStG-dNe-M</td>\n",
              "      <td>2022-01-03</td>\n",
              "      <td>14</td>\n",
              "      <td>36</td>\n",
              "      <td>20</td>\n",
              "      <td>-9.0</td>\n",
              "      <td>-10</td>\n",
              "      <td>4</td>\n",
              "    </tr>\n",
              "    <tr>\n",
              "      <th>3</th>\n",
              "      <td>ID</td>\n",
              "      <td>Indonesia</td>\n",
              "      <td>NaN</td>\n",
              "      <td>NaN</td>\n",
              "      <td>NaN</td>\n",
              "      <td>NaN</td>\n",
              "      <td>NaN</td>\n",
              "      <td>ChIJtwRkSdcHTCwRhfStG-dNe-M</td>\n",
              "      <td>2022-01-04</td>\n",
              "      <td>11</td>\n",
              "      <td>33</td>\n",
              "      <td>15</td>\n",
              "      <td>-9.0</td>\n",
              "      <td>-8</td>\n",
              "      <td>4</td>\n",
              "    </tr>\n",
              "    <tr>\n",
              "      <th>4</th>\n",
              "      <td>ID</td>\n",
              "      <td>Indonesia</td>\n",
              "      <td>NaN</td>\n",
              "      <td>NaN</td>\n",
              "      <td>NaN</td>\n",
              "      <td>NaN</td>\n",
              "      <td>NaN</td>\n",
              "      <td>ChIJtwRkSdcHTCwRhfStG-dNe-M</td>\n",
              "      <td>2022-01-05</td>\n",
              "      <td>12</td>\n",
              "      <td>34</td>\n",
              "      <td>17</td>\n",
              "      <td>-10.0</td>\n",
              "      <td>-7</td>\n",
              "      <td>4</td>\n",
              "    </tr>\n",
              "    <tr>\n",
              "      <th>...</th>\n",
              "      <td>...</td>\n",
              "      <td>...</td>\n",
              "      <td>...</td>\n",
              "      <td>...</td>\n",
              "      <td>...</td>\n",
              "      <td>...</td>\n",
              "      <td>...</td>\n",
              "      <td>...</td>\n",
              "      <td>...</td>\n",
              "      <td>...</td>\n",
              "      <td>...</td>\n",
              "      <td>...</td>\n",
              "      <td>...</td>\n",
              "      <td>...</td>\n",
              "      <td>...</td>\n",
              "    </tr>\n",
              "    <tr>\n",
              "      <th>6365</th>\n",
              "      <td>ID</td>\n",
              "      <td>Indonesia</td>\n",
              "      <td>West Sumatra</td>\n",
              "      <td>NaN</td>\n",
              "      <td>NaN</td>\n",
              "      <td>ID-SB</td>\n",
              "      <td>NaN</td>\n",
              "      <td>ChIJRUJ08Ey51C8RVTvVdblRsXA</td>\n",
              "      <td>2022-06-27</td>\n",
              "      <td>43</td>\n",
              "      <td>74</td>\n",
              "      <td>83</td>\n",
              "      <td>23.0</td>\n",
              "      <td>7</td>\n",
              "      <td>17</td>\n",
              "    </tr>\n",
              "    <tr>\n",
              "      <th>6366</th>\n",
              "      <td>ID</td>\n",
              "      <td>Indonesia</td>\n",
              "      <td>West Sumatra</td>\n",
              "      <td>NaN</td>\n",
              "      <td>NaN</td>\n",
              "      <td>ID-SB</td>\n",
              "      <td>NaN</td>\n",
              "      <td>ChIJRUJ08Ey51C8RVTvVdblRsXA</td>\n",
              "      <td>2022-06-28</td>\n",
              "      <td>35</td>\n",
              "      <td>68</td>\n",
              "      <td>70</td>\n",
              "      <td>22.0</td>\n",
              "      <td>4</td>\n",
              "      <td>18</td>\n",
              "    </tr>\n",
              "    <tr>\n",
              "      <th>6367</th>\n",
              "      <td>ID</td>\n",
              "      <td>Indonesia</td>\n",
              "      <td>West Sumatra</td>\n",
              "      <td>NaN</td>\n",
              "      <td>NaN</td>\n",
              "      <td>ID-SB</td>\n",
              "      <td>NaN</td>\n",
              "      <td>ChIJRUJ08Ey51C8RVTvVdblRsXA</td>\n",
              "      <td>2022-06-29</td>\n",
              "      <td>35</td>\n",
              "      <td>66</td>\n",
              "      <td>68</td>\n",
              "      <td>10.0</td>\n",
              "      <td>6</td>\n",
              "      <td>20</td>\n",
              "    </tr>\n",
              "    <tr>\n",
              "      <th>6368</th>\n",
              "      <td>ID</td>\n",
              "      <td>Indonesia</td>\n",
              "      <td>West Sumatra</td>\n",
              "      <td>NaN</td>\n",
              "      <td>NaN</td>\n",
              "      <td>ID-SB</td>\n",
              "      <td>NaN</td>\n",
              "      <td>ChIJRUJ08Ey51C8RVTvVdblRsXA</td>\n",
              "      <td>2022-06-30</td>\n",
              "      <td>44</td>\n",
              "      <td>74</td>\n",
              "      <td>74</td>\n",
              "      <td>25.0</td>\n",
              "      <td>5</td>\n",
              "      <td>18</td>\n",
              "    </tr>\n",
              "    <tr>\n",
              "      <th>6369</th>\n",
              "      <td>ID</td>\n",
              "      <td>Indonesia</td>\n",
              "      <td>West Sumatra</td>\n",
              "      <td>NaN</td>\n",
              "      <td>NaN</td>\n",
              "      <td>ID-SB</td>\n",
              "      <td>NaN</td>\n",
              "      <td>ChIJRUJ08Ey51C8RVTvVdblRsXA</td>\n",
              "      <td>2022-07-01</td>\n",
              "      <td>44</td>\n",
              "      <td>82</td>\n",
              "      <td>80</td>\n",
              "      <td>21.0</td>\n",
              "      <td>10</td>\n",
              "      <td>18</td>\n",
              "    </tr>\n",
              "  </tbody>\n",
              "</table>\n",
              "<p>6370 rows × 15 columns</p>\n",
              "</div>\n",
              "      <button class=\"colab-df-convert\" onclick=\"convertToInteractive('df-dff99211-58e0-43db-bb0b-35106232d686')\"\n",
              "              title=\"Convert this dataframe to an interactive table.\"\n",
              "              style=\"display:none;\">\n",
              "        \n",
              "  <svg xmlns=\"http://www.w3.org/2000/svg\" height=\"24px\"viewBox=\"0 0 24 24\"\n",
              "       width=\"24px\">\n",
              "    <path d=\"M0 0h24v24H0V0z\" fill=\"none\"/>\n",
              "    <path d=\"M18.56 5.44l.94 2.06.94-2.06 2.06-.94-2.06-.94-.94-2.06-.94 2.06-2.06.94zm-11 1L8.5 8.5l.94-2.06 2.06-.94-2.06-.94L8.5 2.5l-.94 2.06-2.06.94zm10 10l.94 2.06.94-2.06 2.06-.94-2.06-.94-.94-2.06-.94 2.06-2.06.94z\"/><path d=\"M17.41 7.96l-1.37-1.37c-.4-.4-.92-.59-1.43-.59-.52 0-1.04.2-1.43.59L10.3 9.45l-7.72 7.72c-.78.78-.78 2.05 0 2.83L4 21.41c.39.39.9.59 1.41.59.51 0 1.02-.2 1.41-.59l7.78-7.78 2.81-2.81c.8-.78.8-2.07 0-2.86zM5.41 20L4 18.59l7.72-7.72 1.47 1.35L5.41 20z\"/>\n",
              "  </svg>\n",
              "      </button>\n",
              "      \n",
              "  <style>\n",
              "    .colab-df-container {\n",
              "      display:flex;\n",
              "      flex-wrap:wrap;\n",
              "      gap: 12px;\n",
              "    }\n",
              "\n",
              "    .colab-df-convert {\n",
              "      background-color: #E8F0FE;\n",
              "      border: none;\n",
              "      border-radius: 50%;\n",
              "      cursor: pointer;\n",
              "      display: none;\n",
              "      fill: #1967D2;\n",
              "      height: 32px;\n",
              "      padding: 0 0 0 0;\n",
              "      width: 32px;\n",
              "    }\n",
              "\n",
              "    .colab-df-convert:hover {\n",
              "      background-color: #E2EBFA;\n",
              "      box-shadow: 0px 1px 2px rgba(60, 64, 67, 0.3), 0px 1px 3px 1px rgba(60, 64, 67, 0.15);\n",
              "      fill: #174EA6;\n",
              "    }\n",
              "\n",
              "    [theme=dark] .colab-df-convert {\n",
              "      background-color: #3B4455;\n",
              "      fill: #D2E3FC;\n",
              "    }\n",
              "\n",
              "    [theme=dark] .colab-df-convert:hover {\n",
              "      background-color: #434B5C;\n",
              "      box-shadow: 0px 1px 3px 1px rgba(0, 0, 0, 0.15);\n",
              "      filter: drop-shadow(0px 1px 2px rgba(0, 0, 0, 0.3));\n",
              "      fill: #FFFFFF;\n",
              "    }\n",
              "  </style>\n",
              "\n",
              "      <script>\n",
              "        const buttonEl =\n",
              "          document.querySelector('#df-dff99211-58e0-43db-bb0b-35106232d686 button.colab-df-convert');\n",
              "        buttonEl.style.display =\n",
              "          google.colab.kernel.accessAllowed ? 'block' : 'none';\n",
              "\n",
              "        async function convertToInteractive(key) {\n",
              "          const element = document.querySelector('#df-dff99211-58e0-43db-bb0b-35106232d686');\n",
              "          const dataTable =\n",
              "            await google.colab.kernel.invokeFunction('convertToInteractive',\n",
              "                                                     [key], {});\n",
              "          if (!dataTable) return;\n",
              "\n",
              "          const docLinkHtml = 'Like what you see? Visit the ' +\n",
              "            '<a target=\"_blank\" href=https://colab.research.google.com/notebooks/data_table.ipynb>data table notebook</a>'\n",
              "            + ' to learn more about interactive tables.';\n",
              "          element.innerHTML = '';\n",
              "          dataTable['output_type'] = 'display_data';\n",
              "          await google.colab.output.renderOutput(dataTable, element);\n",
              "          const docLink = document.createElement('div');\n",
              "          docLink.innerHTML = docLinkHtml;\n",
              "          element.appendChild(docLink);\n",
              "        }\n",
              "      </script>\n",
              "    </div>\n",
              "  </div>\n",
              "  "
            ]
          },
          "metadata": {},
          "execution_count": 3
        }
      ]
    },
    {
      "cell_type": "code",
      "source": [
        "df.info()"
      ],
      "metadata": {
        "colab": {
          "base_uri": "https://localhost:8080/"
        },
        "id": "duVOP9iIlYnD",
        "outputId": "085c6647-f348-4fee-8565-17c4c27a71e8"
      },
      "execution_count": 4,
      "outputs": [
        {
          "output_type": "stream",
          "name": "stdout",
          "text": [
            "<class 'pandas.core.frame.DataFrame'>\n",
            "RangeIndex: 6370 entries, 0 to 6369\n",
            "Data columns (total 15 columns):\n",
            " #   Column                                              Non-Null Count  Dtype  \n",
            "---  ------                                              --------------  -----  \n",
            " 0   country_region_code                                 6370 non-null   object \n",
            " 1   country_region                                      6370 non-null   object \n",
            " 2   sub_region_1                                        6188 non-null   object \n",
            " 3   sub_region_2                                        0 non-null      float64\n",
            " 4   metro_area                                          0 non-null      float64\n",
            " 5   iso_3166_2_code                                     6188 non-null   object \n",
            " 6   census_fips_code                                    0 non-null      float64\n",
            " 7   place_id                                            6370 non-null   object \n",
            " 8   date                                                6370 non-null   object \n",
            " 9   retail_and_recreation_percent_change_from_baseline  6370 non-null   int64  \n",
            " 10  grocery_and_pharmacy_percent_change_from_baseline   6370 non-null   int64  \n",
            " 11  parks_percent_change_from_baseline                  6370 non-null   int64  \n",
            " 12  transit_stations_percent_change_from_baseline       6188 non-null   float64\n",
            " 13  workplaces_percent_change_from_baseline             6370 non-null   int64  \n",
            " 14  residential_percent_change_from_baseline            6370 non-null   int64  \n",
            "dtypes: float64(4), int64(5), object(6)\n",
            "memory usage: 746.6+ KB\n"
          ]
        }
      ]
    },
    {
      "cell_type": "code",
      "source": [
        "df.describe()"
      ],
      "metadata": {
        "colab": {
          "base_uri": "https://localhost:8080/",
          "height": 364
        },
        "id": "MpPMKcA1l5lU",
        "outputId": "d28ee4aa-d2ed-4776-fe84-74ab9a140edf"
      },
      "execution_count": 8,
      "outputs": [
        {
          "output_type": "execute_result",
          "data": {
            "text/plain": [
              "       sub_region_2  metro_area  census_fips_code  \\\n",
              "count           0.0         0.0               0.0   \n",
              "mean            NaN         NaN               NaN   \n",
              "std             NaN         NaN               NaN   \n",
              "min             NaN         NaN               NaN   \n",
              "25%             NaN         NaN               NaN   \n",
              "50%             NaN         NaN               NaN   \n",
              "75%             NaN         NaN               NaN   \n",
              "max             NaN         NaN               NaN   \n",
              "\n",
              "       retail_and_recreation_percent_change_from_baseline  \\\n",
              "count                                        6370.000000    \n",
              "mean                                           15.108477    \n",
              "std                                            16.185842    \n",
              "min                                           -88.000000    \n",
              "25%                                             6.000000    \n",
              "50%                                            13.000000    \n",
              "75%                                            25.000000    \n",
              "max                                           133.000000    \n",
              "\n",
              "       grocery_and_pharmacy_percent_change_from_baseline  \\\n",
              "count                                        6370.000000   \n",
              "mean                                           42.924019   \n",
              "std                                            24.337003   \n",
              "min                                           -90.000000   \n",
              "25%                                            28.000000   \n",
              "50%                                            40.000000   \n",
              "75%                                            56.000000   \n",
              "max                                           217.000000   \n",
              "\n",
              "       parks_percent_change_from_baseline  \\\n",
              "count                         6370.000000   \n",
              "mean                            44.735008   \n",
              "std                             45.712422   \n",
              "min                            -71.000000   \n",
              "25%                             12.000000   \n",
              "50%                             37.000000   \n",
              "75%                             68.000000   \n",
              "max                            393.000000   \n",
              "\n",
              "       transit_stations_percent_change_from_baseline  \\\n",
              "count                                    6188.000000   \n",
              "mean                                       -1.489496   \n",
              "std                                        26.506115   \n",
              "min                                       -97.000000   \n",
              "25%                                       -17.000000   \n",
              "50%                                        -2.000000   \n",
              "75%                                        14.000000   \n",
              "max                                       244.000000   \n",
              "\n",
              "       workplaces_percent_change_from_baseline  \\\n",
              "count                              6370.000000   \n",
              "mean                                  5.387441   \n",
              "std                                  21.113023   \n",
              "min                                 -92.000000   \n",
              "25%                                  -3.000000   \n",
              "50%                                   7.000000   \n",
              "75%                                  18.000000   \n",
              "max                                  63.000000   \n",
              "\n",
              "       residential_percent_change_from_baseline  \n",
              "count                               6370.000000  \n",
              "mean                                  10.759812  \n",
              "std                                    6.749220  \n",
              "min                                  -11.000000  \n",
              "25%                                    6.000000  \n",
              "50%                                   12.000000  \n",
              "75%                                   15.000000  \n",
              "max                                   46.000000  "
            ],
            "text/html": [
              "\n",
              "  <div id=\"df-a78a1a07-5235-48b6-969b-66aa8cfe6766\">\n",
              "    <div class=\"colab-df-container\">\n",
              "      <div>\n",
              "<style scoped>\n",
              "    .dataframe tbody tr th:only-of-type {\n",
              "        vertical-align: middle;\n",
              "    }\n",
              "\n",
              "    .dataframe tbody tr th {\n",
              "        vertical-align: top;\n",
              "    }\n",
              "\n",
              "    .dataframe thead th {\n",
              "        text-align: right;\n",
              "    }\n",
              "</style>\n",
              "<table border=\"1\" class=\"dataframe\">\n",
              "  <thead>\n",
              "    <tr style=\"text-align: right;\">\n",
              "      <th></th>\n",
              "      <th>sub_region_2</th>\n",
              "      <th>metro_area</th>\n",
              "      <th>census_fips_code</th>\n",
              "      <th>retail_and_recreation_percent_change_from_baseline</th>\n",
              "      <th>grocery_and_pharmacy_percent_change_from_baseline</th>\n",
              "      <th>parks_percent_change_from_baseline</th>\n",
              "      <th>transit_stations_percent_change_from_baseline</th>\n",
              "      <th>workplaces_percent_change_from_baseline</th>\n",
              "      <th>residential_percent_change_from_baseline</th>\n",
              "    </tr>\n",
              "  </thead>\n",
              "  <tbody>\n",
              "    <tr>\n",
              "      <th>count</th>\n",
              "      <td>0.0</td>\n",
              "      <td>0.0</td>\n",
              "      <td>0.0</td>\n",
              "      <td>6370.000000</td>\n",
              "      <td>6370.000000</td>\n",
              "      <td>6370.000000</td>\n",
              "      <td>6188.000000</td>\n",
              "      <td>6370.000000</td>\n",
              "      <td>6370.000000</td>\n",
              "    </tr>\n",
              "    <tr>\n",
              "      <th>mean</th>\n",
              "      <td>NaN</td>\n",
              "      <td>NaN</td>\n",
              "      <td>NaN</td>\n",
              "      <td>15.108477</td>\n",
              "      <td>42.924019</td>\n",
              "      <td>44.735008</td>\n",
              "      <td>-1.489496</td>\n",
              "      <td>5.387441</td>\n",
              "      <td>10.759812</td>\n",
              "    </tr>\n",
              "    <tr>\n",
              "      <th>std</th>\n",
              "      <td>NaN</td>\n",
              "      <td>NaN</td>\n",
              "      <td>NaN</td>\n",
              "      <td>16.185842</td>\n",
              "      <td>24.337003</td>\n",
              "      <td>45.712422</td>\n",
              "      <td>26.506115</td>\n",
              "      <td>21.113023</td>\n",
              "      <td>6.749220</td>\n",
              "    </tr>\n",
              "    <tr>\n",
              "      <th>min</th>\n",
              "      <td>NaN</td>\n",
              "      <td>NaN</td>\n",
              "      <td>NaN</td>\n",
              "      <td>-88.000000</td>\n",
              "      <td>-90.000000</td>\n",
              "      <td>-71.000000</td>\n",
              "      <td>-97.000000</td>\n",
              "      <td>-92.000000</td>\n",
              "      <td>-11.000000</td>\n",
              "    </tr>\n",
              "    <tr>\n",
              "      <th>25%</th>\n",
              "      <td>NaN</td>\n",
              "      <td>NaN</td>\n",
              "      <td>NaN</td>\n",
              "      <td>6.000000</td>\n",
              "      <td>28.000000</td>\n",
              "      <td>12.000000</td>\n",
              "      <td>-17.000000</td>\n",
              "      <td>-3.000000</td>\n",
              "      <td>6.000000</td>\n",
              "    </tr>\n",
              "    <tr>\n",
              "      <th>50%</th>\n",
              "      <td>NaN</td>\n",
              "      <td>NaN</td>\n",
              "      <td>NaN</td>\n",
              "      <td>13.000000</td>\n",
              "      <td>40.000000</td>\n",
              "      <td>37.000000</td>\n",
              "      <td>-2.000000</td>\n",
              "      <td>7.000000</td>\n",
              "      <td>12.000000</td>\n",
              "    </tr>\n",
              "    <tr>\n",
              "      <th>75%</th>\n",
              "      <td>NaN</td>\n",
              "      <td>NaN</td>\n",
              "      <td>NaN</td>\n",
              "      <td>25.000000</td>\n",
              "      <td>56.000000</td>\n",
              "      <td>68.000000</td>\n",
              "      <td>14.000000</td>\n",
              "      <td>18.000000</td>\n",
              "      <td>15.000000</td>\n",
              "    </tr>\n",
              "    <tr>\n",
              "      <th>max</th>\n",
              "      <td>NaN</td>\n",
              "      <td>NaN</td>\n",
              "      <td>NaN</td>\n",
              "      <td>133.000000</td>\n",
              "      <td>217.000000</td>\n",
              "      <td>393.000000</td>\n",
              "      <td>244.000000</td>\n",
              "      <td>63.000000</td>\n",
              "      <td>46.000000</td>\n",
              "    </tr>\n",
              "  </tbody>\n",
              "</table>\n",
              "</div>\n",
              "      <button class=\"colab-df-convert\" onclick=\"convertToInteractive('df-a78a1a07-5235-48b6-969b-66aa8cfe6766')\"\n",
              "              title=\"Convert this dataframe to an interactive table.\"\n",
              "              style=\"display:none;\">\n",
              "        \n",
              "  <svg xmlns=\"http://www.w3.org/2000/svg\" height=\"24px\"viewBox=\"0 0 24 24\"\n",
              "       width=\"24px\">\n",
              "    <path d=\"M0 0h24v24H0V0z\" fill=\"none\"/>\n",
              "    <path d=\"M18.56 5.44l.94 2.06.94-2.06 2.06-.94-2.06-.94-.94-2.06-.94 2.06-2.06.94zm-11 1L8.5 8.5l.94-2.06 2.06-.94-2.06-.94L8.5 2.5l-.94 2.06-2.06.94zm10 10l.94 2.06.94-2.06 2.06-.94-2.06-.94-.94-2.06-.94 2.06-2.06.94z\"/><path d=\"M17.41 7.96l-1.37-1.37c-.4-.4-.92-.59-1.43-.59-.52 0-1.04.2-1.43.59L10.3 9.45l-7.72 7.72c-.78.78-.78 2.05 0 2.83L4 21.41c.39.39.9.59 1.41.59.51 0 1.02-.2 1.41-.59l7.78-7.78 2.81-2.81c.8-.78.8-2.07 0-2.86zM5.41 20L4 18.59l7.72-7.72 1.47 1.35L5.41 20z\"/>\n",
              "  </svg>\n",
              "      </button>\n",
              "      \n",
              "  <style>\n",
              "    .colab-df-container {\n",
              "      display:flex;\n",
              "      flex-wrap:wrap;\n",
              "      gap: 12px;\n",
              "    }\n",
              "\n",
              "    .colab-df-convert {\n",
              "      background-color: #E8F0FE;\n",
              "      border: none;\n",
              "      border-radius: 50%;\n",
              "      cursor: pointer;\n",
              "      display: none;\n",
              "      fill: #1967D2;\n",
              "      height: 32px;\n",
              "      padding: 0 0 0 0;\n",
              "      width: 32px;\n",
              "    }\n",
              "\n",
              "    .colab-df-convert:hover {\n",
              "      background-color: #E2EBFA;\n",
              "      box-shadow: 0px 1px 2px rgba(60, 64, 67, 0.3), 0px 1px 3px 1px rgba(60, 64, 67, 0.15);\n",
              "      fill: #174EA6;\n",
              "    }\n",
              "\n",
              "    [theme=dark] .colab-df-convert {\n",
              "      background-color: #3B4455;\n",
              "      fill: #D2E3FC;\n",
              "    }\n",
              "\n",
              "    [theme=dark] .colab-df-convert:hover {\n",
              "      background-color: #434B5C;\n",
              "      box-shadow: 0px 1px 3px 1px rgba(0, 0, 0, 0.15);\n",
              "      filter: drop-shadow(0px 1px 2px rgba(0, 0, 0, 0.3));\n",
              "      fill: #FFFFFF;\n",
              "    }\n",
              "  </style>\n",
              "\n",
              "      <script>\n",
              "        const buttonEl =\n",
              "          document.querySelector('#df-a78a1a07-5235-48b6-969b-66aa8cfe6766 button.colab-df-convert');\n",
              "        buttonEl.style.display =\n",
              "          google.colab.kernel.accessAllowed ? 'block' : 'none';\n",
              "\n",
              "        async function convertToInteractive(key) {\n",
              "          const element = document.querySelector('#df-a78a1a07-5235-48b6-969b-66aa8cfe6766');\n",
              "          const dataTable =\n",
              "            await google.colab.kernel.invokeFunction('convertToInteractive',\n",
              "                                                     [key], {});\n",
              "          if (!dataTable) return;\n",
              "\n",
              "          const docLinkHtml = 'Like what you see? Visit the ' +\n",
              "            '<a target=\"_blank\" href=https://colab.research.google.com/notebooks/data_table.ipynb>data table notebook</a>'\n",
              "            + ' to learn more about interactive tables.';\n",
              "          element.innerHTML = '';\n",
              "          dataTable['output_type'] = 'display_data';\n",
              "          await google.colab.output.renderOutput(dataTable, element);\n",
              "          const docLink = document.createElement('div');\n",
              "          docLink.innerHTML = docLinkHtml;\n",
              "          element.appendChild(docLink);\n",
              "        }\n",
              "      </script>\n",
              "    </div>\n",
              "  </div>\n",
              "  "
            ]
          },
          "metadata": {},
          "execution_count": 8
        }
      ]
    },
    {
      "cell_type": "code",
      "source": [
        "df.isna().sum()"
      ],
      "metadata": {
        "colab": {
          "base_uri": "https://localhost:8080/"
        },
        "id": "c-1GhQIL4Nkh",
        "outputId": "bbccb338-6329-4951-fa71-9b1269533d58"
      },
      "execution_count": 9,
      "outputs": [
        {
          "output_type": "execute_result",
          "data": {
            "text/plain": [
              "country_region_code                                      0\n",
              "country_region                                           0\n",
              "sub_region_1                                           182\n",
              "sub_region_2                                          6370\n",
              "metro_area                                            6370\n",
              "iso_3166_2_code                                        182\n",
              "census_fips_code                                      6370\n",
              "place_id                                                 0\n",
              "date                                                     0\n",
              "retail_and_recreation_percent_change_from_baseline       0\n",
              "grocery_and_pharmacy_percent_change_from_baseline        0\n",
              "parks_percent_change_from_baseline                       0\n",
              "transit_stations_percent_change_from_baseline          182\n",
              "workplaces_percent_change_from_baseline                  0\n",
              "residential_percent_change_from_baseline                 0\n",
              "dtype: int64"
            ]
          },
          "metadata": {},
          "execution_count": 9
        }
      ]
    },
    {
      "cell_type": "code",
      "source": [
        "df.duplicated().any()"
      ],
      "metadata": {
        "colab": {
          "base_uri": "https://localhost:8080/"
        },
        "id": "2LVNq7hv4Qs-",
        "outputId": "da7c588e-faca-4dbd-dd02-063c635a7dc7"
      },
      "execution_count": 10,
      "outputs": [
        {
          "output_type": "execute_result",
          "data": {
            "text/plain": [
              "False"
            ]
          },
          "metadata": {},
          "execution_count": 10
        }
      ]
    },
    {
      "cell_type": "markdown",
      "source": [
        "### Interpretasi"
      ],
      "metadata": {
        "id": "FpDzNkmD5Via"
      }
    },
    {
      "cell_type": "markdown",
      "source": [
        "1. Terdapat tiga kolom yang isinya null semua yaitu 'sub_region_2', 'metro_area', 'census_fips_code'\n",
        "2. Terdapat 182 null data pada tiga kolom yaitu sub_region_1, iso_3166_2_code, transit_stations_percent_change_from_baseline\n",
        "3. Data date masih berupa text/object namun karena tidak akan digunakan maka akan dibiarkan\n",
        "4. Data transit_stations_percent_change_from_baseline tipenya float harus diubah ke int agar seragam\n",
        "5. Tidak ada data duplikat"
      ],
      "metadata": {
        "id": "AhqHcwZA5Ywn"
      }
    },
    {
      "cell_type": "markdown",
      "source": [
        "# Problem Statement"
      ],
      "metadata": {
        "id": "xaR6MZ0bu5m-"
      }
    },
    {
      "cell_type": "markdown",
      "source": [
        "Berdasarkan asumsi (2022), pada 5 Juli 2022 Menteri Koordinator Bidang Kemaritiman dan Investasi, Luhut Binsar Pandjaitan mengatakan bahwa dua minggu lagi, pemerintah akan menerapkan persyaratan vaksinasi booster sebagai syarat masuk ke Mall, perkantoran, dan perjalanan baik udara, darat, maupun laut.\n",
        "\n",
        "Hal ini merupakan salah satu kebijakan pemerintah untuk menghadapi angka jumlah kasus Covid-19 yang melonjak lagi baru-baru ini serta angka vaksinasi booster yang masih rendah. Oleh karena itu, kami ingin menganalisis apakah kebijakan tersebut sudah tepat sasaran berdasarkan data mobilitas dari masyarakat terhadap ketiga tempat tersebut."
      ],
      "metadata": {
        "id": "flWDZVd36Mrt"
      }
    },
    {
      "cell_type": "markdown",
      "source": [
        "1. Apakah ada hubungan antar data?\n",
        "2. Bagaimana hubungan data workplaces, train_station, dan retail?\n",
        "3. Apakah data yang paling mempengaruhi data workplace berdasarkan kedua data tersebut?\n",
        "4. Prediksi nilai peningkatan data workplace berdasarkan data yang paling mempengaruhi."
      ],
      "metadata": {
        "id": "Xzc2eLlCu8hG"
      }
    },
    {
      "cell_type": "markdown",
      "source": [
        "### Hipotesis"
      ],
      "metadata": {
        "id": "8VuLLsNXZL4v"
      }
    },
    {
      "cell_type": "markdown",
      "source": [
        "1. Mobilitas workplace akan mempengaruhi mobilitas lain.\n",
        "2. Berdasarkan topik utama, mobilitas workplace akan sangat mempengaruhi mobilitas retail dan transit\n",
        "3. Mobilitas workplace sangat berpengaruh karena kecenderungan pekerja/karyawan untuk mampir ke tempat lain sebelum pulang atau berangkat kerja.\n",
        "4. Selain itu, kemungkinan seseorang akan datang ke mall atau grocery juga akan meningkat saat mereka bekerja karena area perkantoran cenderung dekat dengan pusat kota yang merupakan area Mall atau Grocery."
      ],
      "metadata": {
        "id": "W_xqv7PEZQFR"
      }
    },
    {
      "cell_type": "markdown",
      "source": [
        "# Data Cleaning and Pre-Processing"
      ],
      "metadata": {
        "id": "2yPNlBr916Me"
      }
    },
    {
      "cell_type": "code",
      "source": [
        "df = df.drop(columns=['sub_region_2', 'metro_area', 'census_fips_code'])"
      ],
      "metadata": {
        "id": "o7CYNk7ou7iJ"
      },
      "execution_count": 11,
      "outputs": []
    },
    {
      "cell_type": "code",
      "source": [
        "df.dropna(inplace = True)\n",
        "df.info()"
      ],
      "metadata": {
        "colab": {
          "base_uri": "https://localhost:8080/"
        },
        "id": "0F0XVZck4kiT",
        "outputId": "705b6394-32b6-4ba7-a897-132b14d718c4"
      },
      "execution_count": 12,
      "outputs": [
        {
          "output_type": "stream",
          "name": "stdout",
          "text": [
            "<class 'pandas.core.frame.DataFrame'>\n",
            "Int64Index: 6006 entries, 182 to 6369\n",
            "Data columns (total 12 columns):\n",
            " #   Column                                              Non-Null Count  Dtype  \n",
            "---  ------                                              --------------  -----  \n",
            " 0   country_region_code                                 6006 non-null   object \n",
            " 1   country_region                                      6006 non-null   object \n",
            " 2   sub_region_1                                        6006 non-null   object \n",
            " 3   iso_3166_2_code                                     6006 non-null   object \n",
            " 4   place_id                                            6006 non-null   object \n",
            " 5   date                                                6006 non-null   object \n",
            " 6   retail_and_recreation_percent_change_from_baseline  6006 non-null   int64  \n",
            " 7   grocery_and_pharmacy_percent_change_from_baseline   6006 non-null   int64  \n",
            " 8   parks_percent_change_from_baseline                  6006 non-null   int64  \n",
            " 9   transit_stations_percent_change_from_baseline       6006 non-null   float64\n",
            " 10  workplaces_percent_change_from_baseline             6006 non-null   int64  \n",
            " 11  residential_percent_change_from_baseline            6006 non-null   int64  \n",
            "dtypes: float64(1), int64(5), object(6)\n",
            "memory usage: 610.0+ KB\n"
          ]
        }
      ]
    },
    {
      "cell_type": "markdown",
      "source": [
        "# Exploratory Data Analysis"
      ],
      "metadata": {
        "id": "n9GDdv3H5EGV"
      }
    },
    {
      "cell_type": "code",
      "source": [
        "df['transit_stations_percent_change_from_baseline'] = pd.to_numeric(df['transit_stations_percent_change_from_baseline'], downcast = 'integer')"
      ],
      "metadata": {
        "id": "rywk4YEr8oHt"
      },
      "execution_count": 15,
      "outputs": []
    },
    {
      "cell_type": "code",
      "source": [
        "df.info()"
      ],
      "metadata": {
        "colab": {
          "base_uri": "https://localhost:8080/"
        },
        "id": "kahb5g0L9fWx",
        "outputId": "bb961b38-23b8-473b-c4d4-bcc40a50295d"
      },
      "execution_count": 16,
      "outputs": [
        {
          "output_type": "stream",
          "name": "stdout",
          "text": [
            "<class 'pandas.core.frame.DataFrame'>\n",
            "Int64Index: 6006 entries, 182 to 6369\n",
            "Data columns (total 12 columns):\n",
            " #   Column                                              Non-Null Count  Dtype \n",
            "---  ------                                              --------------  ----- \n",
            " 0   country_region_code                                 6006 non-null   object\n",
            " 1   country_region                                      6006 non-null   object\n",
            " 2   sub_region_1                                        6006 non-null   object\n",
            " 3   iso_3166_2_code                                     6006 non-null   object\n",
            " 4   place_id                                            6006 non-null   object\n",
            " 5   date                                                6006 non-null   object\n",
            " 6   retail_and_recreation_percent_change_from_baseline  6006 non-null   int64 \n",
            " 7   grocery_and_pharmacy_percent_change_from_baseline   6006 non-null   int64 \n",
            " 8   parks_percent_change_from_baseline                  6006 non-null   int64 \n",
            " 9   transit_stations_percent_change_from_baseline       6006 non-null   int16 \n",
            " 10  workplaces_percent_change_from_baseline             6006 non-null   int64 \n",
            " 11  residential_percent_change_from_baseline            6006 non-null   int64 \n",
            "dtypes: int16(1), int64(5), object(6)\n",
            "memory usage: 574.8+ KB\n"
          ]
        }
      ]
    },
    {
      "cell_type": "code",
      "source": [
        "cat = ['country_region_code', 'country_region', 'sub_region_1', 'place_id', 'date']\n",
        "num = ['retail_and_recreation_percent_change_from_baseline', 'grocery_and_pharmacy_percent_change_from_baseline', 'parks_percent_change_from_baseline', 'parks_percent_change_from_baseline', 'transit_stations_percent_change_from_baseline', 'workplaces_percent_change_from_baseline', 'residential_percent_change_from_baseline']"
      ],
      "metadata": {
        "id": "lKH_htgi4r18"
      },
      "execution_count": 17,
      "outputs": []
    },
    {
      "cell_type": "code",
      "source": [
        "# Univariate Analysis\n",
        "features = num\n",
        "plt.figure(figsize=(20, 15))\n",
        "for i in range(0, len(features)):\n",
        "    plt.subplot(5, 6,  i+1)\n",
        "    sns.boxplot(y=df[features[i]], color='green', orient='v')\n",
        "    plt.tight_layout()"
      ],
      "metadata": {
        "colab": {
          "base_uri": "https://localhost:8080/",
          "height": 434
        },
        "id": "8JS8qhEZ9hsP",
        "outputId": "3b4ebff9-2005-4ec1-851b-e108dffa600a"
      },
      "execution_count": 19,
      "outputs": [
        {
          "output_type": "display_data",
          "data": {
            "text/plain": [
              "<Figure size 1440x1080 with 7 Axes>"
            ],
            "image/png": "[encoded data removed]"
          },
          "metadata": {
            "needs_background": "light"
          }
        }
      ]
    },
    {
      "cell_type": "code",
      "source": [
        "# Multivariate Analysis\n",
        "\n",
        "sns.heatmap(df.corr(), annot=True, fmt='.0%');"
      ],
      "metadata": {
        "colab": {
          "base_uri": "https://localhost:8080/",
          "height": 536
        },
        "id": "drxA4mwr90o_",
        "outputId": "ed90b131-c1e6-47f9-8a00-aa6f00001137"
      },
      "execution_count": 20,
      "outputs": [
        {
          "output_type": "display_data",
          "data": {
            "text/plain": [
              "<Figure size 432x288 with 2 Axes>"
            ],
            "image/png": "[encoded data removed]"
          },
          "metadata": {
            "needs_background": "light"
          }
        }
      ]
    },
    {
      "cell_type": "markdown",
      "source": [
        "### Interpretasi"
      ],
      "metadata": {
        "id": "7edPpjHR_CG7"
      }
    },
    {
      "cell_type": "markdown",
      "source": [
        "1. Pada analisis univariate terdapat banyak outlier, namun tidak akan dihapus karena kemungkinan nilai itu muncul karena kebijakan tertentu atau hari spesial tertentu yang membuat mobilitas meningkat.\n",
        "2. Data yang memiliki hubungan tertinggi yaitu retail dengan grocery dengan angka 82%\n",
        "3. Data workplace, transit, dan retail memiliki hubungan diatas 15%\n",
        "4. Workplace memiliki korelasi tertinggi dengan grocery dan retail yaitu 29% dan 27%"
      ],
      "metadata": {
        "id": "oFx1i1Sp_Mtb"
      }
    },
    {
      "cell_type": "markdown",
      "source": [
        "# Modelling"
      ],
      "metadata": {
        "id": "Fp_6gRDqVzRD"
      }
    },
    {
      "cell_type": "code",
      "source": [
        "from sklearn.linear_model import LinearRegression\n",
        "\n",
        "# Create x y data using numpy array\n",
        "y = np.array(df['workplaces_percent_change_from_baseline']).reshape(-1,1)\n",
        "X = np.array(df['retail_and_recreation_percent_change_from_baseline']).reshape(-1,1)\n",
        "\n",
        "# Predict workplace value using retail data\n",
        "regressor = LinearRegression()\n",
        "regressor.fit(X, y)\n",
        "\n",
        "# Predicting the Test set results\n",
        "y_pred = regressor.predict(X)\n",
        "\n",
        "# Visualization\n",
        "plt.scatter(X, y)\n",
        "plt.plot(X, y_pred, \"r-\")\n",
        "plt.title('Predicting Workplace berdasarkan retail')\n",
        "plt.xlabel('Retail')\n",
        "plt.ylabel('Workplace')\n",
        "plt.show()"
      ],
      "metadata": {
        "colab": {
          "base_uri": "https://localhost:8080/",
          "height": 295
        },
        "id": "hLk_uIVd_GVD",
        "outputId": "26b7dda9-0599-496a-883e-f51e3ccf3492"
      },
      "execution_count": 22,
      "outputs": [
        {
          "output_type": "display_data",
          "data": {
            "text/plain": [
              "<Figure size 432x288 with 1 Axes>"
            ],
            "image/png": "[encoded data removed]"
          },
          "metadata": {
            "needs_background": "light"
          }
        }
      ]
    },
    {
      "cell_type": "code",
      "source": [
        "# y = mx+c\n",
        "print(f\"Persamaan Garis : y = {regressor.coef_[0]} X + {regressor.intercept_}\")"
      ],
      "metadata": {
        "colab": {
          "base_uri": "https://localhost:8080/"
        },
        "id": "QfHazYejWMu8",
        "outputId": "e2c5b039-52f4-41dc-a836-b6f83cdbf909"
      },
      "execution_count": 23,
      "outputs": [
        {
          "output_type": "stream",
          "name": "stdout",
          "text": [
            "Persamaan Garis : y = [0.35926149] X + [0.09332607]\n"
          ]
        }
      ]
    },
    {
      "cell_type": "code",
      "source": [
        "# Predict workplace value using the model and retail value\n",
        "\n",
        "mobilitas_retail = float(input())\n",
        "hasil = regressor.predict([[mobilitas_retail]])\n",
        "print(\"Mobilitas Workplace berdasarkan Mobilitas Retail sebesar \", int(mobilitas_retail), \"% adalah : \", int(hasil), \"%\")"
      ],
      "metadata": {
        "colab": {
          "base_uri": "https://localhost:8080/"
        },
        "id": "Ic9KiFJmWagT",
        "outputId": "59c017bf-5478-4406-a1e5-fe9cacea9715"
      },
      "execution_count": 26,
      "outputs": [
        {
          "output_type": "stream",
          "name": "stdout",
          "text": [
            "25\n",
            "Mobilitas Workplace berdasarkan Mobilitas Retail sebesar  25 % adalah :  9 %\n"
          ]
        }
      ]
    },
    {
      "cell_type": "code",
      "source": [
        "mobilitas_retail = float(input())\n",
        "hasil = regressor.predict([[mobilitas_retail]])\n",
        "print(\"Mobilitas Workplace berdasarkan Mobilitas Retail sebesar \", int(mobilitas_retail), \"% adalah : \", int(hasil), \"%\")"
      ],
      "metadata": {
        "colab": {
          "base_uri": "https://localhost:8080/"
        },
        "id": "UUVemp3gXOzC",
        "outputId": "b9844c8e-14a6-4bed-d8b0-c7ef9adf90f7"
      },
      "execution_count": 31,
      "outputs": [
        {
          "output_type": "stream",
          "name": "stdout",
          "text": [
            "45\n",
            "Mobilitas Workplace berdasarkan Mobilitas Retail sebesar  45 % adalah :  16 %\n"
          ]
        }
      ]
    },
    {
      "cell_type": "code",
      "source": [
        "mobilitas_retail = float(input())\n",
        "hasil = regressor.predict([[mobilitas_retail]])\n",
        "print(\"Mobilitas Workplace berdasarkan Mobilitas Retail sebesar \", int(mobilitas_retail), \"% adalah : \", int(hasil), \"%\")"
      ],
      "metadata": {
        "colab": {
          "base_uri": "https://localhost:8080/"
        },
        "id": "FAIan88SXP7e",
        "outputId": "2faa17e9-0a86-4ac9-e6e2-3d54a98af7a1"
      },
      "execution_count": 34,
      "outputs": [
        {
          "output_type": "stream",
          "name": "stdout",
          "text": [
            "65\n",
            "Mobilitas Workplace berdasarkan Mobilitas Retail sebesar  65 % adalah :  23 %\n"
          ]
        }
      ]
    },
    {
      "cell_type": "code",
      "source": [
        "mobilitas_retail = float(input())\n",
        "hasil = regressor.predict([[mobilitas_retail]])\n",
        "print(\"Mobilitas Workplace berdasarkan Mobilitas Retail sebesar \", int(mobilitas_retail), \"% adalah : \", int(hasil), \"%\")"
      ],
      "metadata": {
        "colab": {
          "base_uri": "https://localhost:8080/"
        },
        "id": "jg8dGTbMXPY7",
        "outputId": "e1153aea-0521-4229-a432-ff81212a5ec2"
      },
      "execution_count": 35,
      "outputs": [
        {
          "output_type": "stream",
          "name": "stdout",
          "text": [
            "85\n",
            "Mobilitas Workplace berdasarkan Mobilitas Retail sebesar  85 % adalah :  30 %\n"
          ]
        }
      ]
    },
    {
      "cell_type": "markdown",
      "source": [
        "# Conclusion"
      ],
      "metadata": {
        "id": "EoIOm6slW7e8"
      }
    },
    {
      "cell_type": "markdown",
      "source": [
        "Berdasarkan hasil pemodelan dapat disimpulkan bahwa:\n",
        "<br><br>\n",
        "1. Mobilitas retail memiliki korelasi positif dengan mobilitas workplace\n",
        "2. Setiap kenaikan 20% dari mobilitas retail akan menaikan 7% dari mobilitas workplace\n",
        "3. Mobilitas workplace memiliki pengaruh yang cukup besar terhadap mobilitas retail karena setiap 7% kenaikan mobilitas workplace dapat menambah 20% mobilitas ke retail\n",
        "4. Hal ini sesuai dengan hipotesis bahwa tingkat mobilitas masyarakat ke tempat kerja akan mempengaruhi secara signifikan tingkat mobilitas ke Mall atau retail.\n",
        "5. Berdasarkan hasil EDA dan modelling juga dapat dikatakan bahwa mobilitas workplace sangat mempengaruhi mobilitas lainnya seperti grocery, transit station, dan residential.\n",
        "6. Hal tersebut dikarenakan masyarakat yang bekerja cenderung akan mampir atau bermobilitas ke tempat - tempat lain sebelum pulang ke rumah selain itu jika berhubungan dengan residential maka jelas masyarakat yang bekerja akan pulang ke rumah sehingga nilai kedua data tersebut akan selaras."
      ],
      "metadata": {
        "id": "J791CDYhXFsD"
      }
    },
    {
      "cell_type": "markdown",
      "source": [
        "### Rekomendasi\n",
        "\n",
        "1. Kebijakan tersebut sudah cukup tepat untuk dilaksanakan mengingat ketiga tempat tersebut memang sangat berkaitan, jika salah satu saja yang mendapatkan aturan yang terlalu ketat, dapat menyebabkan tempat lain membludak\n",
        "2. Sebaiknya aturan pada tempat kerja dan Mall lebih diperketat daripada stasiun atau aturan di stasiun dilonggarkan, karena kecilnya peningkatan mobilitas ke transit station menunjukkan banyaknya pekerja menggunakan kendaraan pribadi atau ojek online yang akan meningkatkan emisi dan polusi dan pekerja akan lebih memanfaatkan penggunaan kendaraan umum.\n",
        "3. Selain itu, peningkatan aturan pada workplace juga harus disertai dengan aturan yang selaras untuk Mall dan mungkin sektor pendidikan juga, karena mahasiswa dan siswa masih banyak yang belajar daring sehingga kesempatan mereka untuk mengunjungi Mall lebih besar daripada karyawan."
      ],
      "metadata": {
        "id": "UYWf4b_VZ-3e"
      }
    },
    {
      "cell_type": "markdown",
      "source": [
        "### Daftar Pustaka\n",
        "\n",
        "https://www.instagram.com/p/CfoLB-wPIcN/?utm_source=ig_web_copy_link"
      ],
      "metadata": {
        "id": "0AVK0fh6bUG_"
      }
    }
  ]
}